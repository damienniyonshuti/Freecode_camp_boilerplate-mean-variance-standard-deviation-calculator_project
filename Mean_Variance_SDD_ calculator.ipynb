{
 "cells": [
  {
   "cell_type": "code",
   "execution_count": 1,
   "id": "6acfa279-ba1e-4ca8-925e-546d1e448e49",
   "metadata": {},
   "outputs": [],
   "source": [
    "import numpy as np"
   ]
  },
  {
   "cell_type": "code",
   "execution_count": 20,
   "id": "cbb8d33c-24a5-457c-866a-9535b2110b19",
   "metadata": {
    "tags": []
   },
   "outputs": [],
   "source": [
    "def calculate(list):\n",
    "    if len(list) !=9:\n",
    "        return \"List must contain nine numbers.\"\n",
    "    else:\n",
    "        m1=np.array(list).reshape(3,3)\n",
    "        calculations={\n",
    "      'mean ': (np.mean(m1, axis=0).tolist(), np.mean(m1, axis=1).tolist(), np.mean(list)),\n",
    "      'variance ': (np.var(m1, axis=0).tolist(), np.var(m1, axis=1).tolist(), np.var(list)),\n",
    "      'standard deviation ': (np.std(m1, axis=0).tolist(), np.std(m1, axis=1).tolist(), np.std(list)),\n",
    "      'max ': (np.max(m1, axis=0).tolist(), np.max(m1, axis=1).tolist(), np.max(list)),\n",
    "      'min ': (np.min(m1, axis=0).tolist(), np.min(m1, axis=1).tolist(), np.min(list)),\n",
    "      'sum ': (np.sum(m1, axis=0).tolist(), np.sum(m1, axis=1).tolist(), np.sum(list))\n",
    "        }\n",
    "        return calculations\n"
   ]
  },
  {
   "cell_type": "code",
   "execution_count": null,
   "id": "635a3db9-02d8-453f-9a00-05dd1a559133",
   "metadata": {},
   "outputs": [],
   "source": []
  }
 ],
 "metadata": {
  "kernelspec": {
   "display_name": "Python 3",
   "language": "python",
   "name": "python3"
  },
  "language_info": {
   "codemirror_mode": {
    "name": "ipython",
    "version": 3
   },
   "file_extension": ".py",
   "mimetype": "text/x-python",
   "name": "python",
   "nbconvert_exporter": "python",
   "pygments_lexer": "ipython3",
   "version": "3.8.8"
  }
 },
 "nbformat": 4,
 "nbformat_minor": 5
}
